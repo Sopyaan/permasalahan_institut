{
  "cells": [
    {
      "cell_type": "markdown",
      "metadata": {
        "id": "zCTrg6xPVG6r"
      },
      "source": [
        "# Proyek Akhir: Menyelesaikan Permasalahan Perusahaan Edutech"
      ]
    },
    {
      "cell_type": "markdown",
      "metadata": {
        "id": "lRIxI97vVPlJ"
      },
      "source": [
        "## Persiapan"
      ]
    },
    {
      "cell_type": "markdown",
      "metadata": {
        "id": "uToHcOwAVWeX"
      },
      "source": [
        "### Menyiapkan library yang dibutuhkan"
      ]
    },
    {
      "cell_type": "code",
      "execution_count": 1,
      "metadata": {
        "id": "M_8UmIKJV2kR"
      },
      "outputs": [],
      "source": [
        "import pandas as pd\n",
        "import seaborn as sns\n",
        "import numpy as np\n",
        "import matplotlib\n",
        "import matplotlib.pyplot as plt\n",
        "%matplotlib inline\n",
        "import pickle\n",
        "from sklearn.model_selection import train_test_split\n",
        "from sklearn.preprocessing import StandardScaler\n",
        "from sklearn.linear_model import LogisticRegression\n",
        "from sklearn.metrics import confusion_matrix\n",
        "from sklearn.metrics import accuracy_score\n",
        "from sklearn.ensemble import RandomForestClassifier, GradientBoostingClassifier\n",
        "from sklearn.preprocessing import MinMaxScaler"
      ]
    },
    {
      "cell_type": "markdown",
      "metadata": {
        "id": "bZfeHq1NVcEx"
      },
      "source": [
        "### Menyiapkan data yang akan digunakan"
      ]
    },
    {
      "cell_type": "markdown",
      "metadata": {
        "id": "f_Z-dxpNWEeH"
      },
      "source": [
        "data yang digunakan merupakan ilustrasi yang digunakan untuk latihan membantu jaya jaya institut menyelesaikan permasalahan yang dihadapi."
      ]
    },
    {
      "cell_type": "code",
      "execution_count": 2,
      "metadata": {
        "colab": {
          "base_uri": "https://localhost:8080/",
          "height": 255
        },
        "id": "CtqF5O81V76Y",
        "outputId": "ae08f8ca-316e-40b0-f52e-31a05ce1a813"
      },
      "outputs": [
        {
          "data": {
            "text/html": [
              "<div>\n",
              "<style scoped>\n",
              "    .dataframe tbody tr th:only-of-type {\n",
              "        vertical-align: middle;\n",
              "    }\n",
              "\n",
              "    .dataframe tbody tr th {\n",
              "        vertical-align: top;\n",
              "    }\n",
              "\n",
              "    .dataframe thead th {\n",
              "        text-align: right;\n",
              "    }\n",
              "</style>\n",
              "<table border=\"1\" class=\"dataframe\">\n",
              "  <thead>\n",
              "    <tr style=\"text-align: right;\">\n",
              "      <th></th>\n",
              "      <th>Marital_status</th>\n",
              "      <th>Application_mode</th>\n",
              "      <th>Application_order</th>\n",
              "      <th>Course</th>\n",
              "      <th>Daytime_evening_attendance</th>\n",
              "      <th>Previous_qualification</th>\n",
              "      <th>Previous_qualification_grade</th>\n",
              "      <th>Nacionality</th>\n",
              "      <th>Mothers_qualification</th>\n",
              "      <th>Fathers_qualification</th>\n",
              "      <th>...</th>\n",
              "      <th>Curricular_units_2nd_sem_credited</th>\n",
              "      <th>Curricular_units_2nd_sem_enrolled</th>\n",
              "      <th>Curricular_units_2nd_sem_evaluations</th>\n",
              "      <th>Curricular_units_2nd_sem_approved</th>\n",
              "      <th>Curricular_units_2nd_sem_grade</th>\n",
              "      <th>Curricular_units_2nd_sem_without_evaluations</th>\n",
              "      <th>Unemployment_rate</th>\n",
              "      <th>Inflation_rate</th>\n",
              "      <th>GDP</th>\n",
              "      <th>Status</th>\n",
              "    </tr>\n",
              "  </thead>\n",
              "  <tbody>\n",
              "    <tr>\n",
              "      <th>0</th>\n",
              "      <td>1</td>\n",
              "      <td>17</td>\n",
              "      <td>5</td>\n",
              "      <td>171</td>\n",
              "      <td>1</td>\n",
              "      <td>1</td>\n",
              "      <td>122.0</td>\n",
              "      <td>1</td>\n",
              "      <td>19</td>\n",
              "      <td>12</td>\n",
              "      <td>...</td>\n",
              "      <td>0</td>\n",
              "      <td>0</td>\n",
              "      <td>0</td>\n",
              "      <td>0</td>\n",
              "      <td>0.000000</td>\n",
              "      <td>0</td>\n",
              "      <td>10.8</td>\n",
              "      <td>1.4</td>\n",
              "      <td>1.74</td>\n",
              "      <td>Dropout</td>\n",
              "    </tr>\n",
              "    <tr>\n",
              "      <th>1</th>\n",
              "      <td>1</td>\n",
              "      <td>15</td>\n",
              "      <td>1</td>\n",
              "      <td>9254</td>\n",
              "      <td>1</td>\n",
              "      <td>1</td>\n",
              "      <td>160.0</td>\n",
              "      <td>1</td>\n",
              "      <td>1</td>\n",
              "      <td>3</td>\n",
              "      <td>...</td>\n",
              "      <td>0</td>\n",
              "      <td>6</td>\n",
              "      <td>6</td>\n",
              "      <td>6</td>\n",
              "      <td>13.666667</td>\n",
              "      <td>0</td>\n",
              "      <td>13.9</td>\n",
              "      <td>-0.3</td>\n",
              "      <td>0.79</td>\n",
              "      <td>Graduate</td>\n",
              "    </tr>\n",
              "    <tr>\n",
              "      <th>2</th>\n",
              "      <td>1</td>\n",
              "      <td>1</td>\n",
              "      <td>5</td>\n",
              "      <td>9070</td>\n",
              "      <td>1</td>\n",
              "      <td>1</td>\n",
              "      <td>122.0</td>\n",
              "      <td>1</td>\n",
              "      <td>37</td>\n",
              "      <td>37</td>\n",
              "      <td>...</td>\n",
              "      <td>0</td>\n",
              "      <td>6</td>\n",
              "      <td>0</td>\n",
              "      <td>0</td>\n",
              "      <td>0.000000</td>\n",
              "      <td>0</td>\n",
              "      <td>10.8</td>\n",
              "      <td>1.4</td>\n",
              "      <td>1.74</td>\n",
              "      <td>Dropout</td>\n",
              "    </tr>\n",
              "    <tr>\n",
              "      <th>3</th>\n",
              "      <td>1</td>\n",
              "      <td>17</td>\n",
              "      <td>2</td>\n",
              "      <td>9773</td>\n",
              "      <td>1</td>\n",
              "      <td>1</td>\n",
              "      <td>122.0</td>\n",
              "      <td>1</td>\n",
              "      <td>38</td>\n",
              "      <td>37</td>\n",
              "      <td>...</td>\n",
              "      <td>0</td>\n",
              "      <td>6</td>\n",
              "      <td>10</td>\n",
              "      <td>5</td>\n",
              "      <td>12.400000</td>\n",
              "      <td>0</td>\n",
              "      <td>9.4</td>\n",
              "      <td>-0.8</td>\n",
              "      <td>-3.12</td>\n",
              "      <td>Graduate</td>\n",
              "    </tr>\n",
              "    <tr>\n",
              "      <th>4</th>\n",
              "      <td>2</td>\n",
              "      <td>39</td>\n",
              "      <td>1</td>\n",
              "      <td>8014</td>\n",
              "      <td>0</td>\n",
              "      <td>1</td>\n",
              "      <td>100.0</td>\n",
              "      <td>1</td>\n",
              "      <td>37</td>\n",
              "      <td>38</td>\n",
              "      <td>...</td>\n",
              "      <td>0</td>\n",
              "      <td>6</td>\n",
              "      <td>6</td>\n",
              "      <td>6</td>\n",
              "      <td>13.000000</td>\n",
              "      <td>0</td>\n",
              "      <td>13.9</td>\n",
              "      <td>-0.3</td>\n",
              "      <td>0.79</td>\n",
              "      <td>Graduate</td>\n",
              "    </tr>\n",
              "  </tbody>\n",
              "</table>\n",
              "<p>5 rows × 37 columns</p>\n",
              "</div>"
            ],
            "text/plain": [
              "   Marital_status  Application_mode  Application_order  Course  \\\n",
              "0               1                17                  5     171   \n",
              "1               1                15                  1    9254   \n",
              "2               1                 1                  5    9070   \n",
              "3               1                17                  2    9773   \n",
              "4               2                39                  1    8014   \n",
              "\n",
              "   Daytime_evening_attendance  Previous_qualification  \\\n",
              "0                           1                       1   \n",
              "1                           1                       1   \n",
              "2                           1                       1   \n",
              "3                           1                       1   \n",
              "4                           0                       1   \n",
              "\n",
              "   Previous_qualification_grade  Nacionality  Mothers_qualification  \\\n",
              "0                         122.0            1                     19   \n",
              "1                         160.0            1                      1   \n",
              "2                         122.0            1                     37   \n",
              "3                         122.0            1                     38   \n",
              "4                         100.0            1                     37   \n",
              "\n",
              "   Fathers_qualification  ...  Curricular_units_2nd_sem_credited  \\\n",
              "0                     12  ...                                  0   \n",
              "1                      3  ...                                  0   \n",
              "2                     37  ...                                  0   \n",
              "3                     37  ...                                  0   \n",
              "4                     38  ...                                  0   \n",
              "\n",
              "   Curricular_units_2nd_sem_enrolled  Curricular_units_2nd_sem_evaluations  \\\n",
              "0                                  0                                     0   \n",
              "1                                  6                                     6   \n",
              "2                                  6                                     0   \n",
              "3                                  6                                    10   \n",
              "4                                  6                                     6   \n",
              "\n",
              "   Curricular_units_2nd_sem_approved  Curricular_units_2nd_sem_grade  \\\n",
              "0                                  0                        0.000000   \n",
              "1                                  6                       13.666667   \n",
              "2                                  0                        0.000000   \n",
              "3                                  5                       12.400000   \n",
              "4                                  6                       13.000000   \n",
              "\n",
              "   Curricular_units_2nd_sem_without_evaluations  Unemployment_rate  \\\n",
              "0                                             0               10.8   \n",
              "1                                             0               13.9   \n",
              "2                                             0               10.8   \n",
              "3                                             0                9.4   \n",
              "4                                             0               13.9   \n",
              "\n",
              "   Inflation_rate   GDP    Status  \n",
              "0             1.4  1.74   Dropout  \n",
              "1            -0.3  0.79  Graduate  \n",
              "2             1.4  1.74   Dropout  \n",
              "3            -0.8 -3.12  Graduate  \n",
              "4            -0.3  0.79  Graduate  \n",
              "\n",
              "[5 rows x 37 columns]"
            ]
          },
          "execution_count": 2,
          "metadata": {},
          "output_type": "execute_result"
        }
      ],
      "source": [
        "url = 'https://raw.githubusercontent.com/dicodingacademy/dicoding_dataset/refs/heads/main/students_performance/data.csv'\n",
        "df = pd.read_csv(url, sep=';')\n",
        "df.head()"
      ]
    },
    {
      "cell_type": "markdown",
      "metadata": {
        "id": "xomGgbh6VZKI"
      },
      "source": [
        "## Data Understanding"
      ]
    },
    {
      "cell_type": "code",
      "execution_count": 3,
      "metadata": {
        "colab": {
          "base_uri": "https://localhost:8080/"
        },
        "id": "UL3lhVshYRwu",
        "outputId": "ff4f91dd-c9f0-4ffb-fdd5-7b3449b4e261"
      },
      "outputs": [
        {
          "name": "stdout",
          "output_type": "stream",
          "text": [
            "<class 'pandas.core.frame.DataFrame'>\n",
            "RangeIndex: 4424 entries, 0 to 4423\n",
            "Data columns (total 37 columns):\n",
            " #   Column                                        Non-Null Count  Dtype  \n",
            "---  ------                                        --------------  -----  \n",
            " 0   Marital_status                                4424 non-null   int64  \n",
            " 1   Application_mode                              4424 non-null   int64  \n",
            " 2   Application_order                             4424 non-null   int64  \n",
            " 3   Course                                        4424 non-null   int64  \n",
            " 4   Daytime_evening_attendance                    4424 non-null   int64  \n",
            " 5   Previous_qualification                        4424 non-null   int64  \n",
            " 6   Previous_qualification_grade                  4424 non-null   float64\n",
            " 7   Nacionality                                   4424 non-null   int64  \n",
            " 8   Mothers_qualification                         4424 non-null   int64  \n",
            " 9   Fathers_qualification                         4424 non-null   int64  \n",
            " 10  Mothers_occupation                            4424 non-null   int64  \n",
            " 11  Fathers_occupation                            4424 non-null   int64  \n",
            " 12  Admission_grade                               4424 non-null   float64\n",
            " 13  Displaced                                     4424 non-null   int64  \n",
            " 14  Educational_special_needs                     4424 non-null   int64  \n",
            " 15  Debtor                                        4424 non-null   int64  \n",
            " 16  Tuition_fees_up_to_date                       4424 non-null   int64  \n",
            " 17  Gender                                        4424 non-null   int64  \n",
            " 18  Scholarship_holder                            4424 non-null   int64  \n",
            " 19  Age_at_enrollment                             4424 non-null   int64  \n",
            " 20  International                                 4424 non-null   int64  \n",
            " 21  Curricular_units_1st_sem_credited             4424 non-null   int64  \n",
            " 22  Curricular_units_1st_sem_enrolled             4424 non-null   int64  \n",
            " 23  Curricular_units_1st_sem_evaluations          4424 non-null   int64  \n",
            " 24  Curricular_units_1st_sem_approved             4424 non-null   int64  \n",
            " 25  Curricular_units_1st_sem_grade                4424 non-null   float64\n",
            " 26  Curricular_units_1st_sem_without_evaluations  4424 non-null   int64  \n",
            " 27  Curricular_units_2nd_sem_credited             4424 non-null   int64  \n",
            " 28  Curricular_units_2nd_sem_enrolled             4424 non-null   int64  \n",
            " 29  Curricular_units_2nd_sem_evaluations          4424 non-null   int64  \n",
            " 30  Curricular_units_2nd_sem_approved             4424 non-null   int64  \n",
            " 31  Curricular_units_2nd_sem_grade                4424 non-null   float64\n",
            " 32  Curricular_units_2nd_sem_without_evaluations  4424 non-null   int64  \n",
            " 33  Unemployment_rate                             4424 non-null   float64\n",
            " 34  Inflation_rate                                4424 non-null   float64\n",
            " 35  GDP                                           4424 non-null   float64\n",
            " 36  Status                                        4424 non-null   object \n",
            "dtypes: float64(7), int64(29), object(1)\n",
            "memory usage: 1.2+ MB\n"
          ]
        }
      ],
      "source": [
        "df.info()"
      ]
    },
    {
      "cell_type": "code",
      "execution_count": 4,
      "metadata": {
        "id": "SAWaNt7MIfql"
      },
      "outputs": [],
      "source": [
        "df.to_csv('cleaned_dataset.csv', index=False)"
      ]
    },
    {
      "cell_type": "markdown",
      "metadata": {
        "id": "6rbyE90maBT0"
      },
      "source": [
        "#### mengecek missing values"
      ]
    },
    {
      "cell_type": "code",
      "execution_count": 5,
      "metadata": {
        "colab": {
          "base_uri": "https://localhost:8080/",
          "height": 1000
        },
        "id": "f4PPJX06YV90",
        "outputId": "bf5ac435-c864-40a3-8b95-fd95b83efa33"
      },
      "outputs": [
        {
          "data": {
            "text/plain": [
              "Marital_status                                  0\n",
              "Application_mode                                0\n",
              "Application_order                               0\n",
              "Course                                          0\n",
              "Daytime_evening_attendance                      0\n",
              "Previous_qualification                          0\n",
              "Previous_qualification_grade                    0\n",
              "Nacionality                                     0\n",
              "Mothers_qualification                           0\n",
              "Fathers_qualification                           0\n",
              "Mothers_occupation                              0\n",
              "Fathers_occupation                              0\n",
              "Admission_grade                                 0\n",
              "Displaced                                       0\n",
              "Educational_special_needs                       0\n",
              "Debtor                                          0\n",
              "Tuition_fees_up_to_date                         0\n",
              "Gender                                          0\n",
              "Scholarship_holder                              0\n",
              "Age_at_enrollment                               0\n",
              "International                                   0\n",
              "Curricular_units_1st_sem_credited               0\n",
              "Curricular_units_1st_sem_enrolled               0\n",
              "Curricular_units_1st_sem_evaluations            0\n",
              "Curricular_units_1st_sem_approved               0\n",
              "Curricular_units_1st_sem_grade                  0\n",
              "Curricular_units_1st_sem_without_evaluations    0\n",
              "Curricular_units_2nd_sem_credited               0\n",
              "Curricular_units_2nd_sem_enrolled               0\n",
              "Curricular_units_2nd_sem_evaluations            0\n",
              "Curricular_units_2nd_sem_approved               0\n",
              "Curricular_units_2nd_sem_grade                  0\n",
              "Curricular_units_2nd_sem_without_evaluations    0\n",
              "Unemployment_rate                               0\n",
              "Inflation_rate                                  0\n",
              "GDP                                             0\n",
              "Status                                          0\n",
              "dtype: int64"
            ]
          },
          "execution_count": 5,
          "metadata": {},
          "output_type": "execute_result"
        }
      ],
      "source": [
        "df.isnull().sum()"
      ]
    },
    {
      "cell_type": "markdown",
      "metadata": {
        "id": "5pmSr3pXaJ1l"
      },
      "source": [
        "#### mengecek duplikasi pada data"
      ]
    },
    {
      "cell_type": "code",
      "execution_count": 6,
      "metadata": {
        "colab": {
          "base_uri": "https://localhost:8080/",
          "height": 458
        },
        "id": "h5w9TVgLZNrE",
        "outputId": "cca3262c-fcad-4761-9aee-fede3e78f345"
      },
      "outputs": [
        {
          "data": {
            "text/plain": [
              "0       False\n",
              "1       False\n",
              "2       False\n",
              "3       False\n",
              "4       False\n",
              "        ...  \n",
              "4419    False\n",
              "4420    False\n",
              "4421    False\n",
              "4422    False\n",
              "4423    False\n",
              "Length: 4424, dtype: bool"
            ]
          },
          "execution_count": 6,
          "metadata": {},
          "output_type": "execute_result"
        }
      ],
      "source": [
        "df.duplicated()"
      ]
    },
    {
      "cell_type": "markdown",
      "metadata": {
        "id": "clEqBZZRY1-S"
      },
      "source": [
        "Data terdiri dari 37 coloumn dan tidak memiliki missing value dan duplikat data. tapi berdasarkan tipe data kita akan mengubah pada kolom status menjadi numerik untuk memudahkan modeling data."
      ]
    },
    {
      "cell_type": "code",
      "execution_count": 7,
      "metadata": {
        "colab": {
          "base_uri": "https://localhost:8080/",
          "height": 209
        },
        "id": "bC7Bb6k0YcvM",
        "outputId": "b02311bb-a863-40ba-d077-0325442577eb"
      },
      "outputs": [
        {
          "data": {
            "text/plain": [
              "Status\n",
              "Graduate    2209\n",
              "Dropout     1421\n",
              "Enrolled     794\n",
              "Name: count, dtype: int64"
            ]
          },
          "execution_count": 7,
          "metadata": {},
          "output_type": "execute_result"
        }
      ],
      "source": [
        "df['Status'].value_counts()\n"
      ]
    },
    {
      "cell_type": "markdown",
      "metadata": {
        "id": "4aMdtydraQtv"
      },
      "source": [
        "**mengubah type data kolom status menjadi integer**"
      ]
    },
    {
      "cell_type": "code",
      "execution_count": 8,
      "metadata": {},
      "outputs": [
        {
          "data": {
            "text/plain": [
              "array(['Dropout', 'Graduate', 'Enrolled'], dtype=object)"
            ]
          },
          "execution_count": 8,
          "metadata": {},
          "output_type": "execute_result"
        }
      ],
      "source": [
        "df['Status'].unique()"
      ]
    },
    {
      "cell_type": "code",
      "execution_count": 9,
      "metadata": {},
      "outputs": [],
      "source": [
        "df['Status'] = df['Status'].map({'Dropout' : 0, 'Enrolled': 1, 'Graduate': 2})"
      ]
    },
    {
      "cell_type": "code",
      "execution_count": 12,
      "metadata": {
        "colab": {
          "base_uri": "https://localhost:8080/"
        },
        "id": "Np0Uf0TiZoA2",
        "outputId": "514e5be0-503e-428c-92eb-0f6500e3cad9"
      },
      "outputs": [
        {
          "name": "stdout",
          "output_type": "stream",
          "text": [
            "<class 'pandas.core.frame.DataFrame'>\n",
            "RangeIndex: 4424 entries, 0 to 4423\n",
            "Data columns (total 37 columns):\n",
            " #   Column                                        Non-Null Count  Dtype  \n",
            "---  ------                                        --------------  -----  \n",
            " 0   Marital_status                                4424 non-null   int64  \n",
            " 1   Application_mode                              4424 non-null   int64  \n",
            " 2   Application_order                             4424 non-null   int64  \n",
            " 3   Course                                        4424 non-null   int64  \n",
            " 4   Daytime_evening_attendance                    4424 non-null   int64  \n",
            " 5   Previous_qualification                        4424 non-null   int64  \n",
            " 6   Previous_qualification_grade                  4424 non-null   float64\n",
            " 7   Nacionality                                   4424 non-null   int64  \n",
            " 8   Mothers_qualification                         4424 non-null   int64  \n",
            " 9   Fathers_qualification                         4424 non-null   int64  \n",
            " 10  Mothers_occupation                            4424 non-null   int64  \n",
            " 11  Fathers_occupation                            4424 non-null   int64  \n",
            " 12  Admission_grade                               4424 non-null   float64\n",
            " 13  Displaced                                     4424 non-null   int64  \n",
            " 14  Educational_special_needs                     4424 non-null   int64  \n",
            " 15  Debtor                                        4424 non-null   int64  \n",
            " 16  Tuition_fees_up_to_date                       4424 non-null   int64  \n",
            " 17  Gender                                        4424 non-null   int64  \n",
            " 18  Scholarship_holder                            4424 non-null   int64  \n",
            " 19  Age_at_enrollment                             4424 non-null   int64  \n",
            " 20  International                                 4424 non-null   int64  \n",
            " 21  Curricular_units_1st_sem_credited             4424 non-null   int64  \n",
            " 22  Curricular_units_1st_sem_enrolled             4424 non-null   int64  \n",
            " 23  Curricular_units_1st_sem_evaluations          4424 non-null   int64  \n",
            " 24  Curricular_units_1st_sem_approved             4424 non-null   int64  \n",
            " 25  Curricular_units_1st_sem_grade                4424 non-null   float64\n",
            " 26  Curricular_units_1st_sem_without_evaluations  4424 non-null   int64  \n",
            " 27  Curricular_units_2nd_sem_credited             4424 non-null   int64  \n",
            " 28  Curricular_units_2nd_sem_enrolled             4424 non-null   int64  \n",
            " 29  Curricular_units_2nd_sem_evaluations          4424 non-null   int64  \n",
            " 30  Curricular_units_2nd_sem_approved             4424 non-null   int64  \n",
            " 31  Curricular_units_2nd_sem_grade                4424 non-null   float64\n",
            " 32  Curricular_units_2nd_sem_without_evaluations  4424 non-null   int64  \n",
            " 33  Unemployment_rate                             4424 non-null   float64\n",
            " 34  Inflation_rate                                4424 non-null   float64\n",
            " 35  GDP                                           4424 non-null   float64\n",
            " 36  Status                                        4424 non-null   int64  \n",
            "dtypes: float64(7), int64(30)\n",
            "memory usage: 1.2 MB\n"
          ]
        }
      ],
      "source": [
        "df.info()"
      ]
    },
    {
      "cell_type": "markdown",
      "metadata": {
        "id": "NgVMHVSiZq6N"
      },
      "source": [
        "semua kolom sudah menjadi nilai numerik."
      ]
    },
    {
      "cell_type": "code",
      "execution_count": 10,
      "metadata": {
        "colab": {
          "base_uri": "https://localhost:8080/",
          "height": 349
        },
        "id": "jqBWgGoOcNNR",
        "outputId": "a955888e-7727-470e-c678-2ddb9126bdd1"
      },
      "outputs": [
        {
          "data": {
            "text/html": [
              "<div>\n",
              "<style scoped>\n",
              "    .dataframe tbody tr th:only-of-type {\n",
              "        vertical-align: middle;\n",
              "    }\n",
              "\n",
              "    .dataframe tbody tr th {\n",
              "        vertical-align: top;\n",
              "    }\n",
              "\n",
              "    .dataframe thead th {\n",
              "        text-align: right;\n",
              "    }\n",
              "</style>\n",
              "<table border=\"1\" class=\"dataframe\">\n",
              "  <thead>\n",
              "    <tr style=\"text-align: right;\">\n",
              "      <th></th>\n",
              "      <th>Marital_status</th>\n",
              "      <th>Application_mode</th>\n",
              "      <th>Application_order</th>\n",
              "      <th>Course</th>\n",
              "      <th>Daytime_evening_attendance</th>\n",
              "      <th>Previous_qualification</th>\n",
              "      <th>Previous_qualification_grade</th>\n",
              "      <th>Nacionality</th>\n",
              "      <th>Mothers_qualification</th>\n",
              "      <th>Fathers_qualification</th>\n",
              "      <th>...</th>\n",
              "      <th>Curricular_units_2nd_sem_credited</th>\n",
              "      <th>Curricular_units_2nd_sem_enrolled</th>\n",
              "      <th>Curricular_units_2nd_sem_evaluations</th>\n",
              "      <th>Curricular_units_2nd_sem_approved</th>\n",
              "      <th>Curricular_units_2nd_sem_grade</th>\n",
              "      <th>Curricular_units_2nd_sem_without_evaluations</th>\n",
              "      <th>Unemployment_rate</th>\n",
              "      <th>Inflation_rate</th>\n",
              "      <th>GDP</th>\n",
              "      <th>Status</th>\n",
              "    </tr>\n",
              "  </thead>\n",
              "  <tbody>\n",
              "    <tr>\n",
              "      <th>count</th>\n",
              "      <td>4424.000000</td>\n",
              "      <td>4424.000000</td>\n",
              "      <td>4424.000000</td>\n",
              "      <td>4424.000000</td>\n",
              "      <td>4424.000000</td>\n",
              "      <td>4424.000000</td>\n",
              "      <td>4424.000000</td>\n",
              "      <td>4424.000000</td>\n",
              "      <td>4424.000000</td>\n",
              "      <td>4424.000000</td>\n",
              "      <td>...</td>\n",
              "      <td>4424.000000</td>\n",
              "      <td>4424.000000</td>\n",
              "      <td>4424.000000</td>\n",
              "      <td>4424.000000</td>\n",
              "      <td>4424.000000</td>\n",
              "      <td>4424.000000</td>\n",
              "      <td>4424.000000</td>\n",
              "      <td>4424.000000</td>\n",
              "      <td>4424.000000</td>\n",
              "      <td>4424.000000</td>\n",
              "    </tr>\n",
              "    <tr>\n",
              "      <th>mean</th>\n",
              "      <td>1.178571</td>\n",
              "      <td>18.669078</td>\n",
              "      <td>1.727848</td>\n",
              "      <td>8856.642631</td>\n",
              "      <td>0.890823</td>\n",
              "      <td>4.577758</td>\n",
              "      <td>132.613314</td>\n",
              "      <td>1.873192</td>\n",
              "      <td>19.561935</td>\n",
              "      <td>22.275316</td>\n",
              "      <td>...</td>\n",
              "      <td>0.541817</td>\n",
              "      <td>6.232143</td>\n",
              "      <td>8.063291</td>\n",
              "      <td>4.435805</td>\n",
              "      <td>10.230206</td>\n",
              "      <td>0.150316</td>\n",
              "      <td>11.566139</td>\n",
              "      <td>1.228029</td>\n",
              "      <td>0.001969</td>\n",
              "      <td>1.178119</td>\n",
              "    </tr>\n",
              "    <tr>\n",
              "      <th>std</th>\n",
              "      <td>0.605747</td>\n",
              "      <td>17.484682</td>\n",
              "      <td>1.313793</td>\n",
              "      <td>2063.566416</td>\n",
              "      <td>0.311897</td>\n",
              "      <td>10.216592</td>\n",
              "      <td>13.188332</td>\n",
              "      <td>6.914514</td>\n",
              "      <td>15.603186</td>\n",
              "      <td>15.343108</td>\n",
              "      <td>...</td>\n",
              "      <td>1.918546</td>\n",
              "      <td>2.195951</td>\n",
              "      <td>3.947951</td>\n",
              "      <td>3.014764</td>\n",
              "      <td>5.210808</td>\n",
              "      <td>0.753774</td>\n",
              "      <td>2.663850</td>\n",
              "      <td>1.382711</td>\n",
              "      <td>2.269935</td>\n",
              "      <td>0.888243</td>\n",
              "    </tr>\n",
              "    <tr>\n",
              "      <th>min</th>\n",
              "      <td>1.000000</td>\n",
              "      <td>1.000000</td>\n",
              "      <td>0.000000</td>\n",
              "      <td>33.000000</td>\n",
              "      <td>0.000000</td>\n",
              "      <td>1.000000</td>\n",
              "      <td>95.000000</td>\n",
              "      <td>1.000000</td>\n",
              "      <td>1.000000</td>\n",
              "      <td>1.000000</td>\n",
              "      <td>...</td>\n",
              "      <td>0.000000</td>\n",
              "      <td>0.000000</td>\n",
              "      <td>0.000000</td>\n",
              "      <td>0.000000</td>\n",
              "      <td>0.000000</td>\n",
              "      <td>0.000000</td>\n",
              "      <td>7.600000</td>\n",
              "      <td>-0.800000</td>\n",
              "      <td>-4.060000</td>\n",
              "      <td>0.000000</td>\n",
              "    </tr>\n",
              "    <tr>\n",
              "      <th>25%</th>\n",
              "      <td>1.000000</td>\n",
              "      <td>1.000000</td>\n",
              "      <td>1.000000</td>\n",
              "      <td>9085.000000</td>\n",
              "      <td>1.000000</td>\n",
              "      <td>1.000000</td>\n",
              "      <td>125.000000</td>\n",
              "      <td>1.000000</td>\n",
              "      <td>2.000000</td>\n",
              "      <td>3.000000</td>\n",
              "      <td>...</td>\n",
              "      <td>0.000000</td>\n",
              "      <td>5.000000</td>\n",
              "      <td>6.000000</td>\n",
              "      <td>2.000000</td>\n",
              "      <td>10.750000</td>\n",
              "      <td>0.000000</td>\n",
              "      <td>9.400000</td>\n",
              "      <td>0.300000</td>\n",
              "      <td>-1.700000</td>\n",
              "      <td>0.000000</td>\n",
              "    </tr>\n",
              "    <tr>\n",
              "      <th>50%</th>\n",
              "      <td>1.000000</td>\n",
              "      <td>17.000000</td>\n",
              "      <td>1.000000</td>\n",
              "      <td>9238.000000</td>\n",
              "      <td>1.000000</td>\n",
              "      <td>1.000000</td>\n",
              "      <td>133.100000</td>\n",
              "      <td>1.000000</td>\n",
              "      <td>19.000000</td>\n",
              "      <td>19.000000</td>\n",
              "      <td>...</td>\n",
              "      <td>0.000000</td>\n",
              "      <td>6.000000</td>\n",
              "      <td>8.000000</td>\n",
              "      <td>5.000000</td>\n",
              "      <td>12.200000</td>\n",
              "      <td>0.000000</td>\n",
              "      <td>11.100000</td>\n",
              "      <td>1.400000</td>\n",
              "      <td>0.320000</td>\n",
              "      <td>1.000000</td>\n",
              "    </tr>\n",
              "    <tr>\n",
              "      <th>75%</th>\n",
              "      <td>1.000000</td>\n",
              "      <td>39.000000</td>\n",
              "      <td>2.000000</td>\n",
              "      <td>9556.000000</td>\n",
              "      <td>1.000000</td>\n",
              "      <td>1.000000</td>\n",
              "      <td>140.000000</td>\n",
              "      <td>1.000000</td>\n",
              "      <td>37.000000</td>\n",
              "      <td>37.000000</td>\n",
              "      <td>...</td>\n",
              "      <td>0.000000</td>\n",
              "      <td>7.000000</td>\n",
              "      <td>10.000000</td>\n",
              "      <td>6.000000</td>\n",
              "      <td>13.333333</td>\n",
              "      <td>0.000000</td>\n",
              "      <td>13.900000</td>\n",
              "      <td>2.600000</td>\n",
              "      <td>1.790000</td>\n",
              "      <td>2.000000</td>\n",
              "    </tr>\n",
              "    <tr>\n",
              "      <th>max</th>\n",
              "      <td>6.000000</td>\n",
              "      <td>57.000000</td>\n",
              "      <td>9.000000</td>\n",
              "      <td>9991.000000</td>\n",
              "      <td>1.000000</td>\n",
              "      <td>43.000000</td>\n",
              "      <td>190.000000</td>\n",
              "      <td>109.000000</td>\n",
              "      <td>44.000000</td>\n",
              "      <td>44.000000</td>\n",
              "      <td>...</td>\n",
              "      <td>19.000000</td>\n",
              "      <td>23.000000</td>\n",
              "      <td>33.000000</td>\n",
              "      <td>20.000000</td>\n",
              "      <td>18.571429</td>\n",
              "      <td>12.000000</td>\n",
              "      <td>16.200000</td>\n",
              "      <td>3.700000</td>\n",
              "      <td>3.510000</td>\n",
              "      <td>2.000000</td>\n",
              "    </tr>\n",
              "  </tbody>\n",
              "</table>\n",
              "<p>8 rows × 37 columns</p>\n",
              "</div>"
            ],
            "text/plain": [
              "       Marital_status  Application_mode  Application_order       Course  \\\n",
              "count     4424.000000       4424.000000        4424.000000  4424.000000   \n",
              "mean         1.178571         18.669078           1.727848  8856.642631   \n",
              "std          0.605747         17.484682           1.313793  2063.566416   \n",
              "min          1.000000          1.000000           0.000000    33.000000   \n",
              "25%          1.000000          1.000000           1.000000  9085.000000   \n",
              "50%          1.000000         17.000000           1.000000  9238.000000   \n",
              "75%          1.000000         39.000000           2.000000  9556.000000   \n",
              "max          6.000000         57.000000           9.000000  9991.000000   \n",
              "\n",
              "       Daytime_evening_attendance  Previous_qualification  \\\n",
              "count                 4424.000000             4424.000000   \n",
              "mean                     0.890823                4.577758   \n",
              "std                      0.311897               10.216592   \n",
              "min                      0.000000                1.000000   \n",
              "25%                      1.000000                1.000000   \n",
              "50%                      1.000000                1.000000   \n",
              "75%                      1.000000                1.000000   \n",
              "max                      1.000000               43.000000   \n",
              "\n",
              "       Previous_qualification_grade  Nacionality  Mothers_qualification  \\\n",
              "count                   4424.000000  4424.000000            4424.000000   \n",
              "mean                     132.613314     1.873192              19.561935   \n",
              "std                       13.188332     6.914514              15.603186   \n",
              "min                       95.000000     1.000000               1.000000   \n",
              "25%                      125.000000     1.000000               2.000000   \n",
              "50%                      133.100000     1.000000              19.000000   \n",
              "75%                      140.000000     1.000000              37.000000   \n",
              "max                      190.000000   109.000000              44.000000   \n",
              "\n",
              "       Fathers_qualification  ...  Curricular_units_2nd_sem_credited  \\\n",
              "count            4424.000000  ...                        4424.000000   \n",
              "mean               22.275316  ...                           0.541817   \n",
              "std                15.343108  ...                           1.918546   \n",
              "min                 1.000000  ...                           0.000000   \n",
              "25%                 3.000000  ...                           0.000000   \n",
              "50%                19.000000  ...                           0.000000   \n",
              "75%                37.000000  ...                           0.000000   \n",
              "max                44.000000  ...                          19.000000   \n",
              "\n",
              "       Curricular_units_2nd_sem_enrolled  \\\n",
              "count                        4424.000000   \n",
              "mean                            6.232143   \n",
              "std                             2.195951   \n",
              "min                             0.000000   \n",
              "25%                             5.000000   \n",
              "50%                             6.000000   \n",
              "75%                             7.000000   \n",
              "max                            23.000000   \n",
              "\n",
              "       Curricular_units_2nd_sem_evaluations  \\\n",
              "count                           4424.000000   \n",
              "mean                               8.063291   \n",
              "std                                3.947951   \n",
              "min                                0.000000   \n",
              "25%                                6.000000   \n",
              "50%                                8.000000   \n",
              "75%                               10.000000   \n",
              "max                               33.000000   \n",
              "\n",
              "       Curricular_units_2nd_sem_approved  Curricular_units_2nd_sem_grade  \\\n",
              "count                        4424.000000                     4424.000000   \n",
              "mean                            4.435805                       10.230206   \n",
              "std                             3.014764                        5.210808   \n",
              "min                             0.000000                        0.000000   \n",
              "25%                             2.000000                       10.750000   \n",
              "50%                             5.000000                       12.200000   \n",
              "75%                             6.000000                       13.333333   \n",
              "max                            20.000000                       18.571429   \n",
              "\n",
              "       Curricular_units_2nd_sem_without_evaluations  Unemployment_rate  \\\n",
              "count                                   4424.000000        4424.000000   \n",
              "mean                                       0.150316          11.566139   \n",
              "std                                        0.753774           2.663850   \n",
              "min                                        0.000000           7.600000   \n",
              "25%                                        0.000000           9.400000   \n",
              "50%                                        0.000000          11.100000   \n",
              "75%                                        0.000000          13.900000   \n",
              "max                                       12.000000          16.200000   \n",
              "\n",
              "       Inflation_rate          GDP       Status  \n",
              "count     4424.000000  4424.000000  4424.000000  \n",
              "mean         1.228029     0.001969     1.178119  \n",
              "std          1.382711     2.269935     0.888243  \n",
              "min         -0.800000    -4.060000     0.000000  \n",
              "25%          0.300000    -1.700000     0.000000  \n",
              "50%          1.400000     0.320000     1.000000  \n",
              "75%          2.600000     1.790000     2.000000  \n",
              "max          3.700000     3.510000     2.000000  \n",
              "\n",
              "[8 rows x 37 columns]"
            ]
          },
          "execution_count": 10,
          "metadata": {},
          "output_type": "execute_result"
        }
      ],
      "source": [
        "df.describe()"
      ]
    },
    {
      "cell_type": "code",
      "execution_count": 11,
      "metadata": {},
      "outputs": [
        {
          "data": {
            "text/html": [
              "<div>\n",
              "<style scoped>\n",
              "    .dataframe tbody tr th:only-of-type {\n",
              "        vertical-align: middle;\n",
              "    }\n",
              "\n",
              "    .dataframe tbody tr th {\n",
              "        vertical-align: top;\n",
              "    }\n",
              "\n",
              "    .dataframe thead th {\n",
              "        text-align: right;\n",
              "    }\n",
              "</style>\n",
              "<table border=\"1\" class=\"dataframe\">\n",
              "  <thead>\n",
              "    <tr style=\"text-align: right;\">\n",
              "      <th></th>\n",
              "      <th>Marital_status</th>\n",
              "      <th>Application_mode</th>\n",
              "      <th>Application_order</th>\n",
              "      <th>Course</th>\n",
              "      <th>Daytime_evening_attendance</th>\n",
              "      <th>Previous_qualification</th>\n",
              "      <th>Previous_qualification_grade</th>\n",
              "      <th>Nacionality</th>\n",
              "      <th>Mothers_qualification</th>\n",
              "      <th>Fathers_qualification</th>\n",
              "      <th>...</th>\n",
              "      <th>Curricular_units_2nd_sem_credited</th>\n",
              "      <th>Curricular_units_2nd_sem_enrolled</th>\n",
              "      <th>Curricular_units_2nd_sem_evaluations</th>\n",
              "      <th>Curricular_units_2nd_sem_approved</th>\n",
              "      <th>Curricular_units_2nd_sem_grade</th>\n",
              "      <th>Curricular_units_2nd_sem_without_evaluations</th>\n",
              "      <th>Unemployment_rate</th>\n",
              "      <th>Inflation_rate</th>\n",
              "      <th>GDP</th>\n",
              "      <th>Status</th>\n",
              "    </tr>\n",
              "  </thead>\n",
              "  <tbody>\n",
              "    <tr>\n",
              "      <th>0</th>\n",
              "      <td>1</td>\n",
              "      <td>17</td>\n",
              "      <td>5</td>\n",
              "      <td>171</td>\n",
              "      <td>1</td>\n",
              "      <td>1</td>\n",
              "      <td>122.0</td>\n",
              "      <td>1</td>\n",
              "      <td>19</td>\n",
              "      <td>12</td>\n",
              "      <td>...</td>\n",
              "      <td>0</td>\n",
              "      <td>0</td>\n",
              "      <td>0</td>\n",
              "      <td>0</td>\n",
              "      <td>0.000000</td>\n",
              "      <td>0</td>\n",
              "      <td>10.8</td>\n",
              "      <td>1.4</td>\n",
              "      <td>1.74</td>\n",
              "      <td>0</td>\n",
              "    </tr>\n",
              "    <tr>\n",
              "      <th>2</th>\n",
              "      <td>1</td>\n",
              "      <td>1</td>\n",
              "      <td>5</td>\n",
              "      <td>9070</td>\n",
              "      <td>1</td>\n",
              "      <td>1</td>\n",
              "      <td>122.0</td>\n",
              "      <td>1</td>\n",
              "      <td>37</td>\n",
              "      <td>37</td>\n",
              "      <td>...</td>\n",
              "      <td>0</td>\n",
              "      <td>6</td>\n",
              "      <td>0</td>\n",
              "      <td>0</td>\n",
              "      <td>0.000000</td>\n",
              "      <td>0</td>\n",
              "      <td>10.8</td>\n",
              "      <td>1.4</td>\n",
              "      <td>1.74</td>\n",
              "      <td>0</td>\n",
              "    </tr>\n",
              "    <tr>\n",
              "      <th>7</th>\n",
              "      <td>1</td>\n",
              "      <td>18</td>\n",
              "      <td>4</td>\n",
              "      <td>9254</td>\n",
              "      <td>1</td>\n",
              "      <td>1</td>\n",
              "      <td>119.0</td>\n",
              "      <td>1</td>\n",
              "      <td>37</td>\n",
              "      <td>37</td>\n",
              "      <td>...</td>\n",
              "      <td>0</td>\n",
              "      <td>5</td>\n",
              "      <td>5</td>\n",
              "      <td>0</td>\n",
              "      <td>0.000000</td>\n",
              "      <td>0</td>\n",
              "      <td>15.5</td>\n",
              "      <td>2.8</td>\n",
              "      <td>-4.06</td>\n",
              "      <td>0</td>\n",
              "    </tr>\n",
              "    <tr>\n",
              "      <th>9</th>\n",
              "      <td>1</td>\n",
              "      <td>1</td>\n",
              "      <td>1</td>\n",
              "      <td>9238</td>\n",
              "      <td>1</td>\n",
              "      <td>1</td>\n",
              "      <td>138.0</td>\n",
              "      <td>1</td>\n",
              "      <td>1</td>\n",
              "      <td>19</td>\n",
              "      <td>...</td>\n",
              "      <td>0</td>\n",
              "      <td>6</td>\n",
              "      <td>14</td>\n",
              "      <td>2</td>\n",
              "      <td>13.500000</td>\n",
              "      <td>0</td>\n",
              "      <td>8.9</td>\n",
              "      <td>1.4</td>\n",
              "      <td>3.51</td>\n",
              "      <td>0</td>\n",
              "    </tr>\n",
              "    <tr>\n",
              "      <th>12</th>\n",
              "      <td>1</td>\n",
              "      <td>1</td>\n",
              "      <td>2</td>\n",
              "      <td>9853</td>\n",
              "      <td>1</td>\n",
              "      <td>1</td>\n",
              "      <td>133.0</td>\n",
              "      <td>1</td>\n",
              "      <td>19</td>\n",
              "      <td>37</td>\n",
              "      <td>...</td>\n",
              "      <td>0</td>\n",
              "      <td>6</td>\n",
              "      <td>0</td>\n",
              "      <td>0</td>\n",
              "      <td>0.000000</td>\n",
              "      <td>0</td>\n",
              "      <td>12.7</td>\n",
              "      <td>3.7</td>\n",
              "      <td>-1.70</td>\n",
              "      <td>0</td>\n",
              "    </tr>\n",
              "    <tr>\n",
              "      <th>...</th>\n",
              "      <td>...</td>\n",
              "      <td>...</td>\n",
              "      <td>...</td>\n",
              "      <td>...</td>\n",
              "      <td>...</td>\n",
              "      <td>...</td>\n",
              "      <td>...</td>\n",
              "      <td>...</td>\n",
              "      <td>...</td>\n",
              "      <td>...</td>\n",
              "      <td>...</td>\n",
              "      <td>...</td>\n",
              "      <td>...</td>\n",
              "      <td>...</td>\n",
              "      <td>...</td>\n",
              "      <td>...</td>\n",
              "      <td>...</td>\n",
              "      <td>...</td>\n",
              "      <td>...</td>\n",
              "      <td>...</td>\n",
              "      <td>...</td>\n",
              "    </tr>\n",
              "    <tr>\n",
              "      <th>4408</th>\n",
              "      <td>2</td>\n",
              "      <td>39</td>\n",
              "      <td>1</td>\n",
              "      <td>9773</td>\n",
              "      <td>1</td>\n",
              "      <td>1</td>\n",
              "      <td>100.0</td>\n",
              "      <td>1</td>\n",
              "      <td>37</td>\n",
              "      <td>37</td>\n",
              "      <td>...</td>\n",
              "      <td>0</td>\n",
              "      <td>6</td>\n",
              "      <td>10</td>\n",
              "      <td>6</td>\n",
              "      <td>11.666667</td>\n",
              "      <td>0</td>\n",
              "      <td>12.7</td>\n",
              "      <td>3.7</td>\n",
              "      <td>-1.70</td>\n",
              "      <td>0</td>\n",
              "    </tr>\n",
              "    <tr>\n",
              "      <th>4411</th>\n",
              "      <td>1</td>\n",
              "      <td>44</td>\n",
              "      <td>1</td>\n",
              "      <td>9130</td>\n",
              "      <td>1</td>\n",
              "      <td>39</td>\n",
              "      <td>150.0</td>\n",
              "      <td>1</td>\n",
              "      <td>37</td>\n",
              "      <td>37</td>\n",
              "      <td>...</td>\n",
              "      <td>0</td>\n",
              "      <td>6</td>\n",
              "      <td>11</td>\n",
              "      <td>3</td>\n",
              "      <td>13.333333</td>\n",
              "      <td>0</td>\n",
              "      <td>13.9</td>\n",
              "      <td>-0.3</td>\n",
              "      <td>0.79</td>\n",
              "      <td>0</td>\n",
              "    </tr>\n",
              "    <tr>\n",
              "      <th>4415</th>\n",
              "      <td>4</td>\n",
              "      <td>39</td>\n",
              "      <td>1</td>\n",
              "      <td>9500</td>\n",
              "      <td>1</td>\n",
              "      <td>19</td>\n",
              "      <td>133.1</td>\n",
              "      <td>1</td>\n",
              "      <td>37</td>\n",
              "      <td>37</td>\n",
              "      <td>...</td>\n",
              "      <td>0</td>\n",
              "      <td>7</td>\n",
              "      <td>12</td>\n",
              "      <td>3</td>\n",
              "      <td>11.083333</td>\n",
              "      <td>0</td>\n",
              "      <td>11.1</td>\n",
              "      <td>0.6</td>\n",
              "      <td>2.02</td>\n",
              "      <td>0</td>\n",
              "    </tr>\n",
              "    <tr>\n",
              "      <th>4420</th>\n",
              "      <td>1</td>\n",
              "      <td>1</td>\n",
              "      <td>2</td>\n",
              "      <td>9773</td>\n",
              "      <td>1</td>\n",
              "      <td>1</td>\n",
              "      <td>120.0</td>\n",
              "      <td>105</td>\n",
              "      <td>1</td>\n",
              "      <td>1</td>\n",
              "      <td>...</td>\n",
              "      <td>0</td>\n",
              "      <td>6</td>\n",
              "      <td>6</td>\n",
              "      <td>2</td>\n",
              "      <td>11.000000</td>\n",
              "      <td>0</td>\n",
              "      <td>11.1</td>\n",
              "      <td>0.6</td>\n",
              "      <td>2.02</td>\n",
              "      <td>0</td>\n",
              "    </tr>\n",
              "    <tr>\n",
              "      <th>4421</th>\n",
              "      <td>1</td>\n",
              "      <td>1</td>\n",
              "      <td>1</td>\n",
              "      <td>9500</td>\n",
              "      <td>1</td>\n",
              "      <td>1</td>\n",
              "      <td>154.0</td>\n",
              "      <td>1</td>\n",
              "      <td>37</td>\n",
              "      <td>37</td>\n",
              "      <td>...</td>\n",
              "      <td>0</td>\n",
              "      <td>8</td>\n",
              "      <td>9</td>\n",
              "      <td>1</td>\n",
              "      <td>13.500000</td>\n",
              "      <td>0</td>\n",
              "      <td>13.9</td>\n",
              "      <td>-0.3</td>\n",
              "      <td>0.79</td>\n",
              "      <td>0</td>\n",
              "    </tr>\n",
              "  </tbody>\n",
              "</table>\n",
              "<p>1421 rows × 37 columns</p>\n",
              "</div>"
            ],
            "text/plain": [
              "      Marital_status  Application_mode  Application_order  Course  \\\n",
              "0                  1                17                  5     171   \n",
              "2                  1                 1                  5    9070   \n",
              "7                  1                18                  4    9254   \n",
              "9                  1                 1                  1    9238   \n",
              "12                 1                 1                  2    9853   \n",
              "...              ...               ...                ...     ...   \n",
              "4408               2                39                  1    9773   \n",
              "4411               1                44                  1    9130   \n",
              "4415               4                39                  1    9500   \n",
              "4420               1                 1                  2    9773   \n",
              "4421               1                 1                  1    9500   \n",
              "\n",
              "      Daytime_evening_attendance  Previous_qualification  \\\n",
              "0                              1                       1   \n",
              "2                              1                       1   \n",
              "7                              1                       1   \n",
              "9                              1                       1   \n",
              "12                             1                       1   \n",
              "...                          ...                     ...   \n",
              "4408                           1                       1   \n",
              "4411                           1                      39   \n",
              "4415                           1                      19   \n",
              "4420                           1                       1   \n",
              "4421                           1                       1   \n",
              "\n",
              "      Previous_qualification_grade  Nacionality  Mothers_qualification  \\\n",
              "0                            122.0            1                     19   \n",
              "2                            122.0            1                     37   \n",
              "7                            119.0            1                     37   \n",
              "9                            138.0            1                      1   \n",
              "12                           133.0            1                     19   \n",
              "...                            ...          ...                    ...   \n",
              "4408                         100.0            1                     37   \n",
              "4411                         150.0            1                     37   \n",
              "4415                         133.1            1                     37   \n",
              "4420                         120.0          105                      1   \n",
              "4421                         154.0            1                     37   \n",
              "\n",
              "      Fathers_qualification  ...  Curricular_units_2nd_sem_credited  \\\n",
              "0                        12  ...                                  0   \n",
              "2                        37  ...                                  0   \n",
              "7                        37  ...                                  0   \n",
              "9                        19  ...                                  0   \n",
              "12                       37  ...                                  0   \n",
              "...                     ...  ...                                ...   \n",
              "4408                     37  ...                                  0   \n",
              "4411                     37  ...                                  0   \n",
              "4415                     37  ...                                  0   \n",
              "4420                      1  ...                                  0   \n",
              "4421                     37  ...                                  0   \n",
              "\n",
              "      Curricular_units_2nd_sem_enrolled  Curricular_units_2nd_sem_evaluations  \\\n",
              "0                                     0                                     0   \n",
              "2                                     6                                     0   \n",
              "7                                     5                                     5   \n",
              "9                                     6                                    14   \n",
              "12                                    6                                     0   \n",
              "...                                 ...                                   ...   \n",
              "4408                                  6                                    10   \n",
              "4411                                  6                                    11   \n",
              "4415                                  7                                    12   \n",
              "4420                                  6                                     6   \n",
              "4421                                  8                                     9   \n",
              "\n",
              "      Curricular_units_2nd_sem_approved  Curricular_units_2nd_sem_grade  \\\n",
              "0                                     0                        0.000000   \n",
              "2                                     0                        0.000000   \n",
              "7                                     0                        0.000000   \n",
              "9                                     2                       13.500000   \n",
              "12                                    0                        0.000000   \n",
              "...                                 ...                             ...   \n",
              "4408                                  6                       11.666667   \n",
              "4411                                  3                       13.333333   \n",
              "4415                                  3                       11.083333   \n",
              "4420                                  2                       11.000000   \n",
              "4421                                  1                       13.500000   \n",
              "\n",
              "      Curricular_units_2nd_sem_without_evaluations  Unemployment_rate  \\\n",
              "0                                                0               10.8   \n",
              "2                                                0               10.8   \n",
              "7                                                0               15.5   \n",
              "9                                                0                8.9   \n",
              "12                                               0               12.7   \n",
              "...                                            ...                ...   \n",
              "4408                                             0               12.7   \n",
              "4411                                             0               13.9   \n",
              "4415                                             0               11.1   \n",
              "4420                                             0               11.1   \n",
              "4421                                             0               13.9   \n",
              "\n",
              "      Inflation_rate   GDP  Status  \n",
              "0                1.4  1.74       0  \n",
              "2                1.4  1.74       0  \n",
              "7                2.8 -4.06       0  \n",
              "9                1.4  3.51       0  \n",
              "12               3.7 -1.70       0  \n",
              "...              ...   ...     ...  \n",
              "4408             3.7 -1.70       0  \n",
              "4411            -0.3  0.79       0  \n",
              "4415             0.6  2.02       0  \n",
              "4420             0.6  2.02       0  \n",
              "4421            -0.3  0.79       0  \n",
              "\n",
              "[1421 rows x 37 columns]"
            ]
          },
          "execution_count": 11,
          "metadata": {},
          "output_type": "execute_result"
        }
      ],
      "source": [
        "dropout_df = df.drop(df[df.Status != 0].index)\n",
        "dropout_df"
      ]
    },
    {
      "cell_type": "markdown",
      "metadata": {
        "id": "B4YXcw6_dF5E"
      },
      "source": [
        "## Exploratory Data Analysis"
      ]
    },
    {
      "cell_type": "markdown",
      "metadata": {
        "id": "3_zZZ9n_ds-4"
      },
      "source": [
        "Distribusi Target (Status)"
      ]
    },
    {
      "cell_type": "code",
      "execution_count": 12,
      "metadata": {
        "colab": {
          "base_uri": "https://localhost:8080/",
          "height": 410
        },
        "id": "5HvIAdDXdIaT",
        "outputId": "a5aa68de-fe0b-4be1-e7be-c56ee89ffb6c"
      },
      "outputs": [
        {
          "data": {
            "image/png": "[encoded data removed]",
            "text/plain": [
              "<Figure size 600x400 with 1 Axes>"
            ]
          },
          "metadata": {},
          "output_type": "display_data"
        }
      ],
      "source": [
        "plt.figure(figsize=(6,4))\n",
        "sns.countplot(data=df, x='Status', order=df['Status'].value_counts().index)\n",
        "plt.title('Distribusi Status Siswa')\n",
        "plt.xlabel('Status')\n",
        "plt.ylabel('Jumlah Siswa')\n",
        "plt.show()\n"
      ]
    },
    {
      "cell_type": "code",
      "execution_count": 13,
      "metadata": {
        "colab": {
          "base_uri": "https://localhost:8080/",
          "height": 521
        },
        "id": "bApZl-oAfhSR",
        "outputId": "05d0649b-08ae-45fa-df44-343423881f89"
      },
      "outputs": [
        {
          "data": {
            "image/png": "[encoded data removed]",
            "text/plain": [
              "<Figure size 600x600 with 1 Axes>"
            ]
          },
          "metadata": {},
          "output_type": "display_data"
        }
      ],
      "source": [
        "# Hitung jumlah tiap status\n",
        "status_counts = df['Status'].value_counts()\n",
        "\n",
        "# Plot pie chart\n",
        "plt.figure(figsize=(6,6))\n",
        "plt.pie(status_counts, labels=status_counts.index, autopct='%1.1f%%', startangle=140, colors=['#66b3ff','#99ff99','#ff9999'])\n",
        "plt.title('Perbandingan Status Siswa')\n",
        "plt.axis('equal')  # Agar pie chart berbentuk lingkaran sempurna\n",
        "plt.show()"
      ]
    },
    {
      "cell_type": "markdown",
      "metadata": {
        "id": "_fdn0l1Ie-bm"
      },
      "source": [
        "Distribusi Fitur Previous_qualification_grade"
      ]
    },
    {
      "cell_type": "code",
      "execution_count": 14,
      "metadata": {
        "colab": {
          "base_uri": "https://localhost:8080/",
          "height": 487
        },
        "id": "nEBkR1Xnd1vJ",
        "outputId": "c8c1bfd4-212e-4e83-f446-6687a3b30a24"
      },
      "outputs": [
        {
          "data": {
            "image/png": "[encoded data removed]",
            "text/plain": [
              "<Figure size 800x500 with 1 Axes>"
            ]
          },
          "metadata": {},
          "output_type": "display_data"
        }
      ],
      "source": [
        "plt.figure(figsize=(8,5))\n",
        "sns.histplot(data=df, x='Previous_qualification_grade', hue='Status', kde=True, multiple='stack')\n",
        "plt.title('Distribusi Previous Qualification Grade per Status')\n",
        "plt.xlabel('Previous Qualification Grade')\n",
        "plt.ylabel('Jumlah')\n",
        "plt.show()\n"
      ]
    },
    {
      "cell_type": "markdown",
      "metadata": {
        "id": "HPdJmW-XfD5e"
      },
      "source": [
        "Distribusi Fitur Marital_status"
      ]
    },
    {
      "cell_type": "code",
      "execution_count": 15,
      "metadata": {
        "colab": {
          "base_uri": "https://localhost:8080/",
          "height": 487
        },
        "id": "uUDv9U7Md6Ll",
        "outputId": "a7bc5646-ad10-478e-c5e4-48224eed9080"
      },
      "outputs": [
        {
          "data": {
            "image/png": "[encoded data removed]",
            "text/plain": [
              "<Figure size 800x500 with 1 Axes>"
            ]
          },
          "metadata": {},
          "output_type": "display_data"
        }
      ],
      "source": [
        "plt.figure(figsize=(8,5))\n",
        "sns.countplot(data=df, x='Marital_status', hue='Status')\n",
        "plt.title('Distribusi Marital Status per Status')\n",
        "plt.xlabel('Marital Status')\n",
        "plt.ylabel('Jumlah')\n",
        "plt.show()\n"
      ]
    },
    {
      "cell_type": "markdown",
      "metadata": {
        "id": "5HZmdfvpfIBH"
      },
      "source": [
        "Boxplot fitur Curricular_units_1st_sem_grade dibandingkan dengan status"
      ]
    },
    {
      "cell_type": "code",
      "execution_count": 16,
      "metadata": {
        "colab": {
          "base_uri": "https://localhost:8080/",
          "height": 487
        },
        "id": "zKmIEw33d-tx",
        "outputId": "c7939f55-ebd1-425b-eabe-9e129d751788"
      },
      "outputs": [
        {
          "data": {
            "image/png": "[encoded data removed]",
            "text/plain": [
              "<Figure size 800x500 with 1 Axes>"
            ]
          },
          "metadata": {},
          "output_type": "display_data"
        }
      ],
      "source": [
        "plt.figure(figsize=(8,5))\n",
        "sns.boxplot(data=df, x='Status', y='Curricular_units_1st_sem_grade')\n",
        "plt.title('Boxplot Curricular Units 1st Semester Grade per Status')\n",
        "plt.xlabel('Status')\n",
        "plt.ylabel('Grade')\n",
        "plt.show()\n"
      ]
    },
    {
      "cell_type": "markdown",
      "metadata": {
        "id": "aLaBxduNgmM-"
      },
      "source": [
        "mencari features importance terhadap status"
      ]
    },
    {
      "cell_type": "code",
      "execution_count": 17,
      "metadata": {
        "colab": {
          "base_uri": "https://localhost:8080/"
        },
        "id": "AuGW1ZufgqVv",
        "outputId": "39453ded-4f8f-485e-a779-e9a76032b11e"
      },
      "outputs": [
        {
          "data": {
            "image/png": "[encoded data removed]",
            "text/plain": [
              "<Figure size 800x500 with 1 Axes>"
            ]
          },
          "metadata": {},
          "output_type": "display_data"
        }
      ],
      "source": [
        "# Ambil 10 fitur teratas dengan korelasi tertinggi terhadap 'Status'\n",
        "top_corr = df.corr()['Status'].drop('Status').abs().nlargest(10)\n",
        "\n",
        "# Plot\n",
        "plt.figure(figsize=(8, 5))\n",
        "top_corr.plot(kind='bar')\n",
        "plt.xlabel('Features')\n",
        "plt.ylabel('Correlation with Student Status')\n",
        "plt.title('Top 10 Features with Highest Correlation to Student Status')\n",
        "plt.xticks(rotation=45)\n",
        "plt.tight_layout()\n",
        "plt.show()"
      ]
    },
    {
      "cell_type": "markdown",
      "metadata": {
        "id": "Hprp_rCNhMvS"
      },
      "source": [
        "- Curricular_units_2nd_sem_approved dan Curricular_units_2nd_sem_grade adalah fitur paling penting. Artinya, performa akademik semester kedua menjadi indikator utama apakah siswa akan dropout atau tidak.\n",
        "- Fitur-fitur lain seperti Curricular_units_1st_sem_approved, Curricular_units_1st_sem_grade, dan Admission_grade juga cukup penting, menunjukkan performa semester pertama dan nilai masuk juga berperan.\n",
        "- Fitur-fitur non-akademik seperti Tuition_fees_up_to_date dan Age_at_enrollment juga masuk daftar, meski pengaruhnya relatif lebih kecil."
      ]
    },
    {
      "cell_type": "code",
      "execution_count": 18,
      "metadata": {},
      "outputs": [
        {
          "name": "stdout",
          "output_type": "stream",
          "text": [
            "<class 'pandas.core.frame.DataFrame'>\n",
            "RangeIndex: 4424 entries, 0 to 4423\n",
            "Data columns (total 31 columns):\n",
            " #   Column                                        Non-Null Count  Dtype  \n",
            "---  ------                                        --------------  -----  \n",
            " 0   Marital_status                                4424 non-null   int64  \n",
            " 1   Application_mode                              4424 non-null   int64  \n",
            " 2   Application_order                             4424 non-null   int64  \n",
            " 3   Course                                        4424 non-null   int64  \n",
            " 4   Daytime_evening_attendance                    4424 non-null   int64  \n",
            " 5   Previous_qualification                        4424 non-null   int64  \n",
            " 6   Previous_qualification_grade                  4424 non-null   float64\n",
            " 7   Mothers_qualification                         4424 non-null   int64  \n",
            " 8   Fathers_qualification                         4424 non-null   int64  \n",
            " 9   Mothers_occupation                            4424 non-null   int64  \n",
            " 10  Fathers_occupation                            4424 non-null   int64  \n",
            " 11  Admission_grade                               4424 non-null   float64\n",
            " 12  Displaced                                     4424 non-null   int64  \n",
            " 13  Debtor                                        4424 non-null   int64  \n",
            " 14  Tuition_fees_up_to_date                       4424 non-null   int64  \n",
            " 15  Gender                                        4424 non-null   int64  \n",
            " 16  Scholarship_holder                            4424 non-null   int64  \n",
            " 17  Age_at_enrollment                             4424 non-null   int64  \n",
            " 18  Curricular_units_1st_sem_credited             4424 non-null   int64  \n",
            " 19  Curricular_units_1st_sem_enrolled             4424 non-null   int64  \n",
            " 20  Curricular_units_1st_sem_evaluations          4424 non-null   int64  \n",
            " 21  Curricular_units_1st_sem_approved             4424 non-null   int64  \n",
            " 22  Curricular_units_1st_sem_grade                4424 non-null   float64\n",
            " 23  Curricular_units_1st_sem_without_evaluations  4424 non-null   int64  \n",
            " 24  Curricular_units_2nd_sem_credited             4424 non-null   int64  \n",
            " 25  Curricular_units_2nd_sem_enrolled             4424 non-null   int64  \n",
            " 26  Curricular_units_2nd_sem_evaluations          4424 non-null   int64  \n",
            " 27  Curricular_units_2nd_sem_approved             4424 non-null   int64  \n",
            " 28  Curricular_units_2nd_sem_grade                4424 non-null   float64\n",
            " 29  Curricular_units_2nd_sem_without_evaluations  4424 non-null   int64  \n",
            " 30  Status                                        4424 non-null   int64  \n",
            "dtypes: float64(4), int64(27)\n",
            "memory usage: 1.0 MB\n"
          ]
        }
      ],
      "source": [
        "\n",
        "df = df.drop(columns=['Unemployment_rate', 'Inflation_rate', 'GDP',\n",
        "                                'International', 'Nacionality', 'Educational_special_needs'], axis=1)\n",
        "df.info()"
      ]
    },
    {
      "cell_type": "markdown",
      "metadata": {
        "id": "873vcv8sVwHZ"
      },
      "source": [
        "## Data Preparation / Preprocessing"
      ]
    },
    {
      "cell_type": "code",
      "execution_count": 19,
      "metadata": {
        "id": "HcYTxqg9n1_4"
      },
      "outputs": [],
      "source": [
        "df_model = df.copy()\n",
        "df_model = df_model.drop(columns=['Daytime_evening_attendance',\n",
        "                          'Curricular_units_2nd_sem_evaluations',\n",
        "                          'Fathers_occupation', 'Mothers_occupation',\n",
        "                          'Fathers_qualification', 'Mothers_qualification',\n",
        "                          'Curricular_units_1st_sem_evaluations',\n",
        "                          'Curricular_units_1st_sem_without_evaluations',\n",
        "                          'Curricular_units_2nd_sem_without_evaluations',\n",
        "                          'Application_mode',\n",
        "                          'Application_order', 'Course',\n",
        "                          'Previous_qualification', 'Admission_grade',\n",
        "                          'Previous_qualification_grade'], axis=1)"
      ]
    },
    {
      "cell_type": "code",
      "execution_count": 20,
      "metadata": {
        "colab": {
          "base_uri": "https://localhost:8080/"
        },
        "id": "Swj1YXJ6oP9z",
        "outputId": "7ffb2607-57c8-4699-8b0c-66a846986e4f"
      },
      "outputs": [
        {
          "name": "stdout",
          "output_type": "stream",
          "text": [
            "<class 'pandas.core.frame.DataFrame'>\n",
            "RangeIndex: 4424 entries, 0 to 4423\n",
            "Data columns (total 16 columns):\n",
            " #   Column                             Non-Null Count  Dtype  \n",
            "---  ------                             --------------  -----  \n",
            " 0   Marital_status                     4424 non-null   int64  \n",
            " 1   Displaced                          4424 non-null   int64  \n",
            " 2   Debtor                             4424 non-null   int64  \n",
            " 3   Tuition_fees_up_to_date            4424 non-null   int64  \n",
            " 4   Gender                             4424 non-null   int64  \n",
            " 5   Scholarship_holder                 4424 non-null   int64  \n",
            " 6   Age_at_enrollment                  4424 non-null   int64  \n",
            " 7   Curricular_units_1st_sem_credited  4424 non-null   int64  \n",
            " 8   Curricular_units_1st_sem_enrolled  4424 non-null   int64  \n",
            " 9   Curricular_units_1st_sem_approved  4424 non-null   int64  \n",
            " 10  Curricular_units_1st_sem_grade     4424 non-null   float64\n",
            " 11  Curricular_units_2nd_sem_credited  4424 non-null   int64  \n",
            " 12  Curricular_units_2nd_sem_enrolled  4424 non-null   int64  \n",
            " 13  Curricular_units_2nd_sem_approved  4424 non-null   int64  \n",
            " 14  Curricular_units_2nd_sem_grade     4424 non-null   float64\n",
            " 15  Status                             4424 non-null   int64  \n",
            "dtypes: float64(2), int64(14)\n",
            "memory usage: 553.1 KB\n"
          ]
        }
      ],
      "source": [
        "df_model.info()"
      ]
    },
    {
      "cell_type": "code",
      "execution_count": 21,
      "metadata": {},
      "outputs": [
        {
          "data": {
            "text/plain": [
              "0       1\n",
              "1       0\n",
              "2       1\n",
              "3       0\n",
              "4       0\n",
              "       ..\n",
              "4419    0\n",
              "4420    1\n",
              "4421    1\n",
              "4422    0\n",
              "4423    0\n",
              "Name: dropout, Length: 4424, dtype: int64"
            ]
          },
          "execution_count": 21,
          "metadata": {},
          "output_type": "execute_result"
        }
      ],
      "source": [
        "df_model['dropout'] = df_model['Status'].map(lambda x: 1 if x == 0 else 0)\n",
        "df_model.drop(['Status'], axis=1, inplace=True)\n",
        "df_model['dropout']"
      ]
    },
    {
      "cell_type": "code",
      "execution_count": 22,
      "metadata": {
        "id": "Ws7GtcmNowco"
      },
      "outputs": [],
      "source": [
        "# Pisahkan fitur dan target\n",
        "X = df_model.drop('dropout', axis=1)\n",
        "y = df_model['dropout']\n",
        "X_train, X_test, y_train, y_test = train_test_split(X, y, test_size=0.2, random_state=0)"
      ]
    },
    {
      "cell_type": "code",
      "execution_count": 23,
      "metadata": {
        "id": "TemOOMUno8B5"
      },
      "outputs": [],
      "source": [
        "minmaxscaler = MinMaxScaler()\n",
        "minmaxscaler.fit(X_train)\n",
        "X_train=pd.DataFrame(minmaxscaler.transform(X_train),columns=X_train.columns,index=X_train.index)\n",
        "X_test=pd.DataFrame(minmaxscaler.transform(X_test),columns=X_test.columns,index=X_test.index)"
      ]
    },
    {
      "cell_type": "code",
      "execution_count": 24,
      "metadata": {
        "colab": {
          "base_uri": "https://localhost:8080/"
        },
        "id": "dyOUSZuxpFNW",
        "outputId": "10f80613-8819-44ae-aa7a-963c2ef2b421"
      },
      "outputs": [
        {
          "name": "stdout",
          "output_type": "stream",
          "text": [
            "(3539, 15)\n",
            "(885, 15)\n",
            "(3539,)\n",
            "(885,)\n"
          ]
        }
      ],
      "source": [
        "print(X_train.shape)\n",
        "print(X_test.shape)\n",
        "print(y_train.shape)\n",
        "print(y_test.shape)"
      ]
    },
    {
      "cell_type": "markdown",
      "metadata": {
        "id": "_HkBpKbxVyKE"
      },
      "source": [
        "## Modeling"
      ]
    },
    {
      "cell_type": "code",
      "execution_count": 25,
      "metadata": {
        "colab": {
          "base_uri": "https://localhost:8080/"
        },
        "id": "_T9JDUTPpKZp",
        "outputId": "745f1ebf-525e-4790-e0c1-d6dbd6d04faf"
      },
      "outputs": [
        {
          "name": "stdout",
          "output_type": "stream",
          "text": [
            "LogisticRegression()\n",
            "0.8576271186440678\n",
            "Random Forest\n",
            "0.8666666666666667\n",
            "Gradient Boosting\n",
            "0.8745762711864407\n"
          ]
        }
      ],
      "source": [
        "models={'LogisticRegression()':LogisticRegression(),\n",
        "        'Random Forest':RandomForestClassifier(),\n",
        "        'Gradient Boosting':GradientBoostingClassifier()}\n",
        "\n",
        "for name, model in models.items():\n",
        "    print(name)\n",
        "    model.fit(X_train,y_train)\n",
        "    print(model.score(X_test,y_test))"
      ]
    },
    {
      "cell_type": "markdown",
      "metadata": {
        "id": "PdUtqAwzppzB"
      },
      "source": [
        "Dari daftar model di atas, tingkat accuracy paling tinggi ada pada model Gradient Boosting. Maka GradientBoostingClassifier() yang dipilih menjadi model."
      ]
    },
    {
      "cell_type": "code",
      "execution_count": 26,
      "metadata": {
        "id": "hs0hrNgLprvC"
      },
      "outputs": [],
      "source": [
        "model = GradientBoostingClassifier()\n",
        "model.fit(X_train, y_train)\n",
        "pred = model.predict(X_test)"
      ]
    },
    {
      "cell_type": "markdown",
      "metadata": {
        "id": "A03Ts0mqVz0K"
      },
      "source": [
        "## Evaluation"
      ]
    },
    {
      "cell_type": "code",
      "execution_count": 27,
      "metadata": {
        "colab": {
          "base_uri": "https://localhost:8080/"
        },
        "id": "tRQhRL55kSPN",
        "outputId": "a2017e0a-376e-459e-da28-395de17f74ce"
      },
      "outputs": [
        {
          "data": {
            "text/plain": [
              "0.8745762711864407"
            ]
          },
          "execution_count": 27,
          "metadata": {},
          "output_type": "execute_result"
        }
      ],
      "source": [
        "accuracy_score(y_test, pred)"
      ]
    },
    {
      "cell_type": "code",
      "execution_count": 30,
      "metadata": {},
      "outputs": [
        {
          "data": {
            "text/plain": [
              "array([[565,  36],\n",
              "       [ 75, 209]], dtype=int64)"
            ]
          },
          "execution_count": 30,
          "metadata": {},
          "output_type": "execute_result"
        }
      ],
      "source": [
        "matrix = confusion_matrix(y_test, pred)\n",
        "matrix"
      ]
    },
    {
      "cell_type": "code",
      "execution_count": 31,
      "metadata": {
        "colab": {
          "base_uri": "https://localhost:8080/",
          "height": 417
        },
        "id": "D6KsXOzbpxWH",
        "outputId": "4709c626-b6e8-417e-e827-9e8de4acf414"
      },
      "outputs": [
        {
          "data": {
            "image/png": "[encoded data removed]",
            "text/plain": [
              "<Figure size 480x480 with 2 Axes>"
            ]
          },
          "metadata": {},
          "output_type": "display_data"
        }
      ],
      "source": [
        "matrix = confusion_matrix(y_test, pred)\n",
        "plt.matshow(matrix)\n",
        "plt.colorbar()\n",
        "\n",
        "plt.title('Confusion Matrix')\n",
        "plt.ylabel('True label')\n",
        "plt.xlabel('Predicted label')\n",
        "plt.show()"
      ]
    },
    {
      "cell_type": "markdown",
      "metadata": {
        "id": "SUXBCd-qp1Ae"
      },
      "source": [
        "## Model Deployment"
      ]
    },
    {
      "cell_type": "code",
      "execution_count": 32,
      "metadata": {
        "id": "RnUXbzb_PcJ5"
      },
      "outputs": [],
      "source": [
        "with open(\"model.pkl\", \"wb\") as file:\n",
        "    pickle.dump(model, file)"
      ]
    }
  ],
  "metadata": {
    "colab": {
      "provenance": []
    },
    "kernelspec": {
      "display_name": "venv",
      "language": "python",
      "name": "python3"
    },
    "language_info": {
      "codemirror_mode": {
        "name": "ipython",
        "version": 3
      },
      "file_extension": ".py",
      "mimetype": "text/x-python",
      "name": "python",
      "nbconvert_exporter": "python",
      "pygments_lexer": "ipython3",
      "version": "3.12.7"
    }
  },
  "nbformat": 4,
  "nbformat_minor": 0
}
